{
 "cells": [
  {
   "cell_type": "markdown",
   "metadata": {},
   "source": [
    "<h1> How do the patterns of occurrence for 6 birds (Snowy Owl, Brambling, Black Swift, Annas Hummingbird, Lazuli Bunting, and Harlequin Duck) compare with respect to time and density from 2009-2016?\n",
    "\n",
    "<h3> by Tessa de Vries"
   ]
  },
  {
   "cell_type": "markdown",
   "metadata": {
    "collapsed": true
   },
   "source": [
    "Introduction: \n",
    "In this lab I will be investigating the patterns of occurrence in King County for each species (Snowy Owl, Brambling, Black Swift, Annas Hummingbird, Lazuli Bunting, and Harlequin Duck) by month, by number of birds sighted in each observation, and by year. The data used in this lab was provided by Ebird. \n",
    "\n"
   ]
  },
  {
   "cell_type": "markdown",
   "metadata": {},
   "source": [
    "<h2> I. Patterns of Occurance by Month"
   ]
  },
  {
   "cell_type": "code",
   "execution_count": 5,
   "metadata": {
    "collapsed": false
   },
   "outputs": [
    {
     "name": "stdout",
     "output_type": "stream",
     "text": [
      "Number of Snowy Owl observations in Fall:\n",
      "11\n",
      "Number of Snowy Owl observations in Winter:\n",
      "111\n",
      "Number of Snowy Owl observations in Spring:\n",
      "4\n",
      "Number of Snowy Owl observations in Summer:\n",
      "0\n"
     ]
    }
   ],
   "source": [
    "import statistics\n",
    "import matplotlib.pyplot as plt\n",
    "% matplotlib inline\n",
    "\n",
    "file= open(\"SnowyOwl.csv\", \"r\", errors=\"ignore\")\n",
    "flist=[]\n",
    "for i in file:\n",
    "    flist.append(i)\n",
    "del flist[0]\n",
    "for j in range(len(flist)):\n",
    "    flist[j]=flist[j].split(\",\")\n",
    "\n",
    "fall= 0\n",
    "for row in flist:\n",
    "    if row[3][0:2]=='11'or row[3][0:2]=='10'or row[3][0:1]=='9':\n",
    "        fall+=1 \n",
    "print(\"Number of Snowy Owl observations in Fall:\")\n",
    "print(fall)\n",
    "\n",
    "winter= 0\n",
    "for row in flist:\n",
    "    if row[3][0:2]=='12'or row[3][0:2]=='1/'or row[3][0:1]=='2':\n",
    "        winter+=1 \n",
    "print(\"Number of Snowy Owl observations in Winter:\")\n",
    "print(winter)\n",
    "\n",
    "spring= 0\n",
    "for row in flist:\n",
    "    if row[3][0:1]=='3'or row[3][0:1]=='4'or row[3][0:1]=='5':\n",
    "        spring+=1 \n",
    "print(\"Number of Snowy Owl observations in Spring:\")\n",
    "print(spring)\n",
    "\n",
    "summer= 0\n",
    "for row in flist:\n",
    "    if row[3][0:1]=='6'or row[3][0:1]=='7'or row[3][0:1]=='8':\n",
    "        summer+=1 \n",
    "print(\"Number of Snowy Owl observations in Summer:\")\n",
    "print(summer)\n",
    "\n",
    "\n"
   ]
  },
  {
   "cell_type": "code",
   "execution_count": 6,
   "metadata": {
    "collapsed": false
   },
   "outputs": [
    {
     "name": "stdout",
     "output_type": "stream",
     "text": [
      "Number of Black Swift observations in Fall:\n",
      "19\n",
      "Number of Black Swift observations in Winter:\n",
      "0\n",
      "Number of Black Swift observations in Spring:\n",
      "57\n",
      "Number of Black Swift observations in Summer:\n",
      "338\n"
     ]
    }
   ],
   "source": [
    "file= open(\"BlackSwift.csv\", \"r\", errors=\"ignore\")\n",
    "klist=[]\n",
    "for i in file:\n",
    "    klist.append(i)\n",
    "del klist[0]\n",
    "for j in range(len(klist)):\n",
    "    klist[j]=klist[j].split(\",\")\n",
    "\n",
    "fall= 0\n",
    "for row in klist:\n",
    "    if row[3][0:2]=='11'or row[3][0:2]=='10'or row[3][0:1]=='9':\n",
    "        fall+=1 \n",
    "print(\"Number of Black Swift observations in Fall:\")\n",
    "print(fall)\n",
    "\n",
    "winter= 0\n",
    "for row in klist:\n",
    "    if row[3][0:2]=='12'or row[3][0:2]=='1/'or row[3][0:1]=='2':\n",
    "        winter+=1 \n",
    "print(\"Number of Black Swift observations in Winter:\")\n",
    "print(winter)\n",
    "\n",
    "spring= 0\n",
    "for row in klist:\n",
    "    if row[3][0:1]=='3'or row[3][0:1]=='4'or row[3][0:1]=='5':\n",
    "        spring+=1 \n",
    "print(\"Number of Black Swift observations in Spring:\")\n",
    "print(spring)\n",
    "\n",
    "summer= 0\n",
    "for row in klist:\n",
    "    if row[3][0:1]=='6'or row[3][0:1]=='7'or row[3][0:1]=='8':\n",
    "        summer+=1 \n",
    "print(\"Number of Black Swift observations in Summer:\")\n",
    "print(summer)\n",
    "\n",
    "\n",
    "\n",
    "\n",
    "\n"
   ]
  },
  {
   "cell_type": "code",
   "execution_count": 7,
   "metadata": {
    "collapsed": false
   },
   "outputs": [
    {
     "name": "stdout",
     "output_type": "stream",
     "text": [
      "Number of Annas Hummingbird observations in Fall:\n",
      "5033\n",
      "Number of Annas Hummingbird observations in Winter:\n",
      "8246\n",
      "Number of Annas Hummingbird observations in Spring:\n",
      "9700\n",
      "Number of Annas Hummingbird observations in Summer:\n",
      "5699\n"
     ]
    }
   ],
   "source": [
    "file= open(\"AnnasHummingbird.csv\", \"r\", errors=\"ignore\")\n",
    "tlist=[]\n",
    "for i in file:\n",
    "    tlist.append(i)\n",
    "del tlist[0]\n",
    "for j in range(len(tlist)):\n",
    "    tlist[j]=tlist[j].split(\",\")\n",
    "\n",
    "fall= 0\n",
    "for row in tlist:\n",
    "    if row[3][0:2]=='11'or row[3][0:2]=='10'or row[3][0:1]=='9':\n",
    "        fall+=1 \n",
    "print(\"Number of Annas Hummingbird observations in Fall:\")\n",
    "print(fall)\n",
    "\n",
    "winter= 0\n",
    "for row in tlist:\n",
    "    if row[3][0:2]=='12'or row[3][0:2]=='1/'or row[3][0:1]=='2':\n",
    "        winter+=1 \n",
    "print(\"Number of Annas Hummingbird observations in Winter:\")\n",
    "print(winter)\n",
    "\n",
    "spring= 0\n",
    "for row in tlist:\n",
    "    if row[3][0:1]=='3'or row[3][0:1]=='4'or row[3][0:1]=='5':\n",
    "        spring+=1 \n",
    "print(\"Number of Annas Hummingbird observations in Spring:\")\n",
    "print(spring)\n",
    "\n",
    "summer= 0\n",
    "for row in tlist:\n",
    "    if row[3][0:1]=='6'or row[3][0:1]=='7'or row[3][0:1]=='8':\n",
    "        summer+=1 \n",
    "print(\"Number of Annas Hummingbird observations in Summer:\")\n",
    "print(summer)\n",
    "\n",
    "\n",
    "\n",
    "\n",
    "\n"
   ]
  },
  {
   "cell_type": "code",
   "execution_count": 8,
   "metadata": {
    "collapsed": false
   },
   "outputs": [
    {
     "name": "stdout",
     "output_type": "stream",
     "text": [
      "Number of Lazuli Bunting observations in Fall:\n",
      "1\n",
      "Number of Lazuli Bunting observations in Winter:\n",
      "0\n",
      "Number of Lazuli Bunting observations in Spring:\n",
      "349\n",
      "Number of Lazuli Bunting observations in Summer:\n",
      "423\n"
     ]
    }
   ],
   "source": [
    "file= open(\"LazuliBunting.csv\", \"r\", errors=\"ignore\")\n",
    "mlist=[]\n",
    "for i in file:\n",
    "    mlist.append(i)\n",
    "del mlist[0]\n",
    "for j in range(len(mlist)):\n",
    "    mlist[j]=mlist[j].split(\",\")\n",
    "\n",
    "fall= 0\n",
    "for row in mlist:\n",
    "    if row[3][0:2]=='11'or row[3][0:2]=='10'or row[3][0:1]=='9':\n",
    "        fall+=1 \n",
    "print(\"Number of Lazuli Bunting observations in Fall:\")\n",
    "print(fall)\n",
    "\n",
    "winter= 0\n",
    "for row in mlist:\n",
    "    if row[3][0:2]=='12'or row[3][0:2]=='1/'or row[3][0:1]=='2':\n",
    "        winter+=1 \n",
    "print(\"Number of Lazuli Bunting observations in Winter:\")\n",
    "print(winter)\n",
    "\n",
    "spring= 0\n",
    "for row in mlist:\n",
    "    if row[3][0:1]=='3'or row[3][0:1]=='4'or row[3][0:1]=='5':\n",
    "        spring+=1 \n",
    "print(\"Number of Lazuli Bunting observations in Spring:\")\n",
    "print(spring)\n",
    "\n",
    "summer= 0\n",
    "for row in mlist:\n",
    "    if row[3][0:1]=='6'or row[3][0:1]=='7'or row[3][0:1]=='8':\n",
    "        summer+=1 \n",
    "print(\"Number of Lazuli Bunting observations in Summer:\")\n",
    "print(summer)\n",
    "\n"
   ]
  },
  {
   "cell_type": "code",
   "execution_count": 9,
   "metadata": {
    "collapsed": false
   },
   "outputs": [
    {
     "name": "stdout",
     "output_type": "stream",
     "text": [
      "Number of Brambling observations in Fall:\n",
      "0\n",
      "Number of Brambling observations in Winter:\n",
      "29\n",
      "Number of Brambling observations in Spring:\n",
      "56\n",
      "Number of Brambling observations in Summer:\n",
      "0\n"
     ]
    }
   ],
   "source": [
    "file= open(\"Brambling.csv\", \"r\", errors=\"ignore\")\n",
    "tlist=[]\n",
    "for i in file:\n",
    "    tlist.append(i)\n",
    "del tlist[0]\n",
    "for j in range(len(tlist)):\n",
    "    tlist[j]=tlist[j].split(\",\")\n",
    "\n",
    "fall= 0\n",
    "for row in tlist:\n",
    "    if row[3][0:2]=='11'or row[3][0:2]=='10'or row[3][0:1]=='9':\n",
    "        fall+=1 \n",
    "print(\"Number of Brambling observations in Fall:\")\n",
    "print(fall)\n",
    "\n",
    "winter= 0\n",
    "for row in tlist:\n",
    "    if row[3][0:2]=='12'or row[3][0:2]=='1/'or row[3][0:1]=='2':\n",
    "        winter+=1 \n",
    "print(\"Number of Brambling observations in Winter:\")\n",
    "print(winter)\n",
    "\n",
    "spring= 0\n",
    "for row in tlist:\n",
    "    if row[3][0:1]=='3'or row[3][0:1]=='4'or row[3][0:1]=='5':\n",
    "        spring+=1 \n",
    "print(\"Number of Brambling observations in Spring:\")\n",
    "print(spring)\n",
    "\n",
    "summer= 0\n",
    "for row in tlist:\n",
    "    if row[3][0:1]=='6'or row[3][0:1]=='7'or row[3][0:1]=='8':\n",
    "        summer+=1 \n",
    "print(\"Number of Brambling observations in Summer:\")\n",
    "print(summer)\n",
    "\n"
   ]
  },
  {
   "cell_type": "code",
   "execution_count": 10,
   "metadata": {
    "collapsed": false
   },
   "outputs": [
    {
     "name": "stdout",
     "output_type": "stream",
     "text": [
      "Number of Harlequin Duck observations in Fall:\n",
      "232\n",
      "Number of Harlequin Duck observations in Winter:\n",
      "475\n",
      "Number of Harlequin Duck observations in Spring:\n",
      "264\n",
      "Number of Harlequin Duck observations in Summer:\n",
      "35\n"
     ]
    }
   ],
   "source": [
    "file= open(\"HarlequinDuck.csv\", \"r\", errors=\"ignore\")\n",
    "tlist=[]\n",
    "for i in file:\n",
    "    tlist.append(i)\n",
    "del tlist[0]\n",
    "for j in range(len(tlist)):\n",
    "    tlist[j]=tlist[j].split(\",\")\n",
    "\n",
    "fall= 0\n",
    "for row in tlist:\n",
    "    if row[3][0:2]=='11'or row[3][0:2]=='10'or row[3][0:1]=='9':\n",
    "        fall+=1 \n",
    "print(\"Number of Harlequin Duck observations in Fall:\")\n",
    "print(fall)\n",
    "\n",
    "winter= 0\n",
    "for row in tlist:\n",
    "    if row[3][0:2]=='12'or row[3][0:2]=='1/'or row[3][0:1]=='2':\n",
    "        winter+=1 \n",
    "print(\"Number of Harlequin Duck observations in Winter:\")\n",
    "print(winter)\n",
    "\n",
    "spring= 0\n",
    "for row in tlist:\n",
    "    if row[3][0:1]=='3'or row[3][0:1]=='4'or row[3][0:1]=='5':\n",
    "        spring+=1 \n",
    "print(\"Number of Harlequin Duck observations in Spring:\")\n",
    "print(spring)\n",
    "\n",
    "summer= 0\n",
    "for row in tlist:\n",
    "    if row[3][0:1]=='6'or row[3][0:1]=='7'or row[3][0:1]=='8':\n",
    "        summer+=1 \n",
    "print(\"Number of Harlequin Duck observations in Summer:\")\n",
    "print(summer)\n",
    "\n"
   ]
  },
  {
   "cell_type": "markdown",
   "metadata": {},
   "source": [
    "Out of all the seasons, winter has the most Snowy Owl observations. And noticeably important, there are 0 Snowy Owl observations in summer. This may indicate that the King County summer climate is not suitable to the species.\n",
    "\n",
    "Out of all the seasons, summer has the most Black Swift observations occur. And noticeably important, there are 0 Black Swift observations in winter. This may indicate that the King County winter climate is not suitable to the species. \n",
    "\n",
    "Out of all the seasons, spring has the most Anna's Hummingbird observations. However, a significant (> 5000) amount observations occured each season which may indicate that the species are very popular in the King County region. \n",
    "\n",
    "Out of all the seasons, summer has the most Lazuli Bunting observations. And noticeably important, there are 0 Lazuli Bunting observations in Winter. This may indicate that the King County winter climate is not suitable to the species.\n",
    "\n",
    "Out of all the seasons, spring has the most Brambling observations. And noticeably important, there are 0 Brambling observations in fall or summer. This may indicate that the King County fall and summer climates are not suitable to the species.  \n",
    "\n",
    "Out of all the seasons, winter has the most Harlequin Duck observations. And noticeably important, there are a significantly smaller amount of observations in summer than the rest of the seasons. This may indicate that the King County summer climate is less suitable to the species than the rest of the seasons. "
   ]
  },
  {
   "cell_type": "markdown",
   "metadata": {},
   "source": [
    "<h2> II. Patterns of Occurance by Density"
   ]
  },
  {
   "cell_type": "code",
   "execution_count": 11,
   "metadata": {
    "collapsed": false
   },
   "outputs": [
    {
     "name": "stdout",
     "output_type": "stream",
     "text": [
      "Brambling observation count of 0-9:\n",
      "85\n",
      "Brambling observation count of 10-49:\n",
      "0\n",
      "Brambling observation count of 50-199:\n",
      "0\n",
      "Brambling observation count of 200 or >:\n",
      "0\n"
     ]
    }
   ],
   "source": [
    "file= open(\"Brambling.csv\", \"r\", errors=\"ignore\")\n",
    "flist=[]\n",
    "for i in file:\n",
    "    flist.append(i)\n",
    "del flist[0]\n",
    "for j in range(len(flist)):\n",
    "    flist[j]=flist[j].split(\",\")\n",
    "\n",
    "countsmall= 0\n",
    "for row in flist:\n",
    "    row[0]=int(row[0])\n",
    "    if row[0] < 10:    \n",
    "        countsmall+=1 \n",
    "\n",
    "print(\"Brambling observation count of 0-9:\")\n",
    "print(countsmall)\n",
    "\n",
    "countmedium= 0\n",
    "for row in flist:\n",
    "    row[0]=int(row[0])\n",
    "    if row[0] > 9 and row[0] < 50:    \n",
    "        countmedium+=1 \n",
    "\n",
    "print(\"Brambling observation count of 10-49:\")\n",
    "print(countmedium)\n",
    "\n",
    "\n",
    "countlarge= 0\n",
    "for row in flist:\n",
    "    row[0]=int(row[0])\n",
    "    if row[0] > 49 and row[0] < 200:    \n",
    "        countlarge+=1 \n",
    "\n",
    "print(\"Brambling observation count of 50-199:\")\n",
    "print(countlarge)\n",
    "\n",
    "countsuperlarge= 0\n",
    "for row in flist:\n",
    "    row[0]=int(row[0])\n",
    "    if row[0] > 199:    \n",
    "        countsuperlarge+=1 \n",
    "\n",
    "print(\"Brambling observation count of 200 or >:\")\n",
    "print(countsuperlarge)\n",
    "\n",
    "\n"
   ]
  },
  {
   "cell_type": "code",
   "execution_count": 12,
   "metadata": {
    "collapsed": false
   },
   "outputs": [
    {
     "name": "stdout",
     "output_type": "stream",
     "text": [
      "Harlequin Duck observation count of 0-9:\n",
      "909\n",
      "Harlequin Duck observation count of 10-49:\n",
      "97\n",
      "Harlequin Duck observation count of 50-199:\n",
      "0\n",
      "Harlequin Duck observation count of 200 or >:\n",
      "0\n"
     ]
    }
   ],
   "source": [
    "file= open(\"HarlequinDuck.csv\", \"r\", errors=\"ignore\")\n",
    "flist=[]\n",
    "for i in file:\n",
    "    flist.append(i)\n",
    "del flist[0]\n",
    "for j in range(len(flist)):\n",
    "    flist[j]=flist[j].split(\",\")\n",
    "\n",
    "countsmall= 0\n",
    "for row in flist:\n",
    "    row[0]=int(row[0])\n",
    "    if row[0] < 10:    \n",
    "        countsmall+=1 \n",
    "\n",
    "print(\"Harlequin Duck observation count of 0-9:\")\n",
    "print(countsmall)\n",
    "\n",
    "countmedium= 0\n",
    "for row in flist:\n",
    "    row[0]=int(row[0])\n",
    "    if row[0] > 9 and row[0] < 50:    \n",
    "        countmedium+=1 \n",
    "\n",
    "print(\"Harlequin Duck observation count of 10-49:\")\n",
    "print(countmedium)\n",
    "\n",
    "\n",
    "countlarge= 0\n",
    "for row in flist:\n",
    "    row[0]=int(row[0])\n",
    "    if row[0] > 49 and row[0] < 200:    \n",
    "        countlarge+=1 \n",
    "\n",
    "print(\"Harlequin Duck observation count of 50-199:\")\n",
    "print(countlarge)\n",
    "\n",
    "countsuperlarge= 0\n",
    "for row in flist:\n",
    "    row[0]=int(row[0])\n",
    "    if row[0] > 199:    \n",
    "        countsuperlarge+=1 \n",
    "\n",
    "print(\"Harlequin Duck observation count of 200 or >:\")\n",
    "print(countsuperlarge)\n",
    "\n"
   ]
  },
  {
   "cell_type": "code",
   "execution_count": 13,
   "metadata": {
    "collapsed": false
   },
   "outputs": [
    {
     "name": "stdout",
     "output_type": "stream",
     "text": [
      "Snowy Owl observation count of 0-9:\n",
      "126\n",
      "Snowy Owl observation count of 10-49:\n",
      "0\n",
      "Snowy Owl observation count of 50-199:\n",
      "0\n",
      "Snowy Owl observation count of 200 or >:\n",
      "0\n"
     ]
    }
   ],
   "source": [
    "file= open(\"SnowyOwl.csv\", \"r\", errors=\"ignore\")\n",
    "flist=[]\n",
    "for i in file:\n",
    "    flist.append(i)\n",
    "del flist[0]\n",
    "for j in range(len(flist)):\n",
    "    flist[j]=flist[j].split(\",\")\n",
    "\n",
    "countsmall= 0\n",
    "for row in flist:\n",
    "    row[0]=int(row[0])\n",
    "    if row[0] < 10:    \n",
    "        countsmall+=1 \n",
    "\n",
    "print(\"Snowy Owl observation count of 0-9:\")\n",
    "print(countsmall)\n",
    "\n",
    "countmedium= 0\n",
    "for row in flist:\n",
    "    row[0]=int(row[0])\n",
    "    if row[0] > 9 and row[0] < 50:    \n",
    "        countmedium+=1 \n",
    "\n",
    "print(\"Snowy Owl observation count of 10-49:\")\n",
    "print(countmedium)\n",
    "\n",
    "\n",
    "countlarge= 0\n",
    "for row in flist:\n",
    "    row[0]=int(row[0])\n",
    "    if row[0] > 49 and row[0] < 200:    \n",
    "        countlarge+=1 \n",
    "\n",
    "print(\"Snowy Owl observation count of 50-199:\")\n",
    "print(countlarge)\n",
    "\n",
    "countsuperlarge= 0\n",
    "for row in flist:\n",
    "    row[0]=int(row[0])\n",
    "    if row[0] > 199:    \n",
    "        countsuperlarge+=1 \n",
    "\n",
    "print(\"Snowy Owl observation count of 200 or >:\")\n",
    "print(countsuperlarge)\n",
    "\n",
    "\n"
   ]
  },
  {
   "cell_type": "code",
   "execution_count": 14,
   "metadata": {
    "collapsed": false
   },
   "outputs": [
    {
     "name": "stdout",
     "output_type": "stream",
     "text": [
      "Black Swift observation count of 0-9:\n",
      "350\n",
      "Black Swift observation count of 10-49:\n",
      "60\n",
      "Black Swift observation count of 50-199:\n",
      "4\n",
      "Black Swift observation count of 200 or >:\n",
      "0\n"
     ]
    }
   ],
   "source": [
    "file= open(\"BlackSwift.csv\", \"r\", errors=\"ignore\")\n",
    "flist=[]\n",
    "for i in file:\n",
    "    flist.append(i)\n",
    "del flist[0]\n",
    "for j in range(len(flist)):\n",
    "    flist[j]=flist[j].split(\",\")\n",
    "\n",
    "countsmall= 0\n",
    "for row in flist:\n",
    "    row[0]=int(row[0])\n",
    "    if row[0] < 10:    \n",
    "        countsmall+=1 \n",
    "\n",
    "print(\"Black Swift observation count of 0-9:\")\n",
    "print(countsmall)\n",
    "\n",
    "countmedium= 0\n",
    "for row in flist:\n",
    "    row[0]=int(row[0])\n",
    "    if row[0] > 9 and row[0] < 50:    \n",
    "        countmedium+=1 \n",
    "\n",
    "print(\"Black Swift observation count of 10-49:\")\n",
    "print(countmedium)\n",
    "\n",
    "\n",
    "countlarge= 0\n",
    "for row in flist:\n",
    "    row[0]=int(row[0])\n",
    "    if row[0] > 49 and row[0] < 200:    \n",
    "        countlarge+=1 \n",
    "\n",
    "print(\"Black Swift observation count of 50-199:\")\n",
    "print(countlarge)\n",
    "\n",
    "countsuperlarge= 0\n",
    "for row in flist:\n",
    "    row[0]=int(row[0])\n",
    "    if row[0] > 199:    \n",
    "        countsuperlarge+=1 \n",
    "\n",
    "print(\"Black Swift observation count of 200 or >:\")\n",
    "print(countsuperlarge)\n",
    "\n"
   ]
  },
  {
   "cell_type": "code",
   "execution_count": 15,
   "metadata": {
    "collapsed": false
   },
   "outputs": [
    {
     "name": "stdout",
     "output_type": "stream",
     "text": [
      "Anna's Hummingbird observation count of 0-9:\n",
      "27932\n",
      "Anna's Hummingbird observation count of 10-49:\n",
      "745\n",
      "Anna's Hummingbird observation count of 50-199:\n",
      "1\n",
      "Anna's Hummingbird observation count of 200 or >:\n",
      "0\n"
     ]
    }
   ],
   "source": [
    "file= open(\"AnnasHummingbird.csv\", \"r\", errors=\"ignore\")\n",
    "flist=[]\n",
    "for i in file:\n",
    "    flist.append(i)\n",
    "del flist[0]\n",
    "for j in range(len(flist)):\n",
    "    flist[j]=flist[j].split(\",\")\n",
    "\n",
    "countsmall= 0\n",
    "for row in flist:\n",
    "    row[0]=int(row[0])\n",
    "    if row[0] < 10:    \n",
    "        countsmall+=1 \n",
    "\n",
    "print(\"Anna's Hummingbird observation count of 0-9:\")\n",
    "print(countsmall)\n",
    "\n",
    "countmedium= 0\n",
    "for row in flist:\n",
    "    row[0]=int(row[0])\n",
    "    if row[0] > 9 and row[0] < 50:    \n",
    "        countmedium+=1 \n",
    "\n",
    "print(\"Anna's Hummingbird observation count of 10-49:\")\n",
    "print(countmedium)\n",
    "\n",
    "\n",
    "countlarge= 0\n",
    "for row in flist:\n",
    "    row[0]=int(row[0])\n",
    "    if row[0] > 49 and row[0] < 200:    \n",
    "        countlarge+=1 \n",
    "\n",
    "print(\"Anna's Hummingbird observation count of 50-199:\")\n",
    "print(countlarge)\n",
    "\n",
    "countsuperlarge= 0\n",
    "for row in flist:\n",
    "    row[0]=int(row[0])\n",
    "    if row[0] > 199:    \n",
    "        countsuperlarge+=1 \n",
    "\n",
    "print(\"Anna's Hummingbird observation count of 200 or >:\")\n",
    "print(countsuperlarge)\n",
    "\n",
    "\n"
   ]
  },
  {
   "cell_type": "code",
   "execution_count": 16,
   "metadata": {
    "collapsed": false
   },
   "outputs": [
    {
     "name": "stdout",
     "output_type": "stream",
     "text": [
      "Harlequin Duck observation count of 0-9:\n",
      "909\n",
      "Harlequin Duck observation count of 10-49:\n",
      "97\n",
      "Harlequin Duck observation count of 50-199:\n",
      "0\n",
      "Harlequin Duck observation count of 200 or >:\n",
      "0\n"
     ]
    }
   ],
   "source": [
    "file= open(\"HarlequinDuck.csv\", \"r\", errors=\"ignore\")\n",
    "flist=[]\n",
    "for i in file:\n",
    "    flist.append(i)\n",
    "del flist[0]\n",
    "for j in range(len(flist)):\n",
    "    flist[j]=flist[j].split(\",\")\n",
    "\n",
    "countsmall= 0\n",
    "for row in flist:\n",
    "    row[0]=int(row[0])\n",
    "    if row[0] < 10:    \n",
    "        countsmall+=1 \n",
    "\n",
    "print(\"Harlequin Duck observation count of 0-9:\")\n",
    "print(countsmall)\n",
    "\n",
    "countmedium= 0\n",
    "for row in flist:\n",
    "    row[0]=int(row[0])\n",
    "    if row[0] > 9 and row[0] < 50:    \n",
    "        countmedium+=1 \n",
    "\n",
    "print(\"Harlequin Duck observation count of 10-49:\")\n",
    "print(countmedium)\n",
    "\n",
    "\n",
    "countlarge= 0\n",
    "for row in flist:\n",
    "    row[0]=int(row[0])\n",
    "    if row[0] > 49 and row[0] < 200:    \n",
    "        countlarge+=1 \n",
    "\n",
    "print(\"Harlequin Duck observation count of 50-199:\")\n",
    "print(countlarge)\n",
    "\n",
    "countsuperlarge= 0\n",
    "for row in flist:\n",
    "    row[0]=int(row[0])\n",
    "    if row[0] > 199:    \n",
    "        countsuperlarge+=1 \n",
    "\n",
    "print(\"Harlequin Duck observation count of 200 or >:\")\n",
    "print(countsuperlarge)\n",
    "\n",
    "\n"
   ]
  },
  {
   "cell_type": "markdown",
   "metadata": {},
   "source": [
    "The Lazuli Bunting species was most commonly observed in groups of less than 10. In no cases was the species observed in groups equal to or larger than 50. \n",
    "\n",
    "The Brambling species was most commonly observed in groups of less than 10. In no cases was the species observed in groups equal to or larger than 10. \n",
    "\n",
    "The Anna's Hummingbird species was most commonly observed in groups of less than 10. In no cases was the species observed in groups equal to or larger than 200, and in only one case was the species observed in a group of 50-199.  \n",
    "\n",
    "The Black Swift species was most commonly observed in groups of less than 10. In no cases was the species observed in groups equal to or larger than 200. \n",
    "\n",
    "The Snowy Owl species was most commonly observed in groups of less than 10. In no cases was the species observed in groups equal to or larger than 10.\n",
    "\n",
    "The Harlequin Duck species was most commonly observed in groups of less than 10. In no cases was the species observed in groups equal to or larger than 50. "
   ]
  },
  {
   "cell_type": "markdown",
   "metadata": {
    "collapsed": true
   },
   "source": [
    "<h2> III. Patterns of Occurance by Year"
   ]
  },
  {
   "cell_type": "code",
   "execution_count": 17,
   "metadata": {
    "collapsed": false
   },
   "outputs": [
    {
     "name": "stdout",
     "output_type": "stream",
     "text": [
      "Number of Snowy Owl observations in 2009:\n",
      "0\n",
      "Number of Snowy Owl observations in 2010:\n",
      "0\n",
      "Number of Snowy Owl observations in 2011:\n",
      "6\n",
      "Number of Snowy Owl observations in 2012:\n",
      "55\n",
      "Number of Snowy Owl observations in 2013:\n",
      "64\n",
      "Number of Snowy Owl observations in 2014:\n",
      "0\n",
      "Number of Snowy Owl observations in 2015:\n",
      "0\n",
      "Number of Snowy Owl observations in 2016:\n",
      "0\n"
     ]
    },
    {
     "data": {
      "text/plain": [
       "<matplotlib.text.Text at 0x10d9a36d8>"
      ]
     },
     "execution_count": 17,
     "metadata": {},
     "output_type": "execute_result"
    },
    {
     "data": {
      "image/png": "[encoded data removed]",
      "text/plain": [
       "<matplotlib.figure.Figure at 0x10d9b6278>"
      ]
     },
     "metadata": {},
     "output_type": "display_data"
    }
   ],
   "source": [
    "file= open(\"SnowyOwl.csv\", \"r\", errors=\"ignore\")\n",
    "flist=[]\n",
    "for i in file:\n",
    "    flist.append(i)\n",
    "del flist[0]\n",
    "for j in range(len(flist)):\n",
    "    flist[j]=flist[j].split(\",\")\n",
    "\n",
    "y2009= 0\n",
    "for row in flist:\n",
    "    if row[3][-3:-1]=='09':\n",
    "        y2009+=1 \n",
    "print(\"Number of Snowy Owl observations in 2009:\")\n",
    "print(y2009)\n",
    "    \n",
    "y2010= 0\n",
    "for row in flist:\n",
    "    if row[3][-3:-1]=='10':\n",
    "        y2010+=1 \n",
    "print(\"Number of Snowy Owl observations in 2010:\")\n",
    "print(y2010)\n",
    "\n",
    "y2011= 0\n",
    "for row in flist:\n",
    "    if row[3][-3:-1]=='11':\n",
    "        y2011+=1 \n",
    "print(\"Number of Snowy Owl observations in 2011:\")\n",
    "print(y2011)\n",
    "\n",
    "y2012= 0\n",
    "for row in flist:\n",
    "    if row[3][-3:-1]=='12':\n",
    "        y2012+=1 \n",
    "print(\"Number of Snowy Owl observations in 2012:\")\n",
    "print(y2012)\n",
    "\n",
    "y2013= 0\n",
    "for row in flist:\n",
    "    if row[3][-3:-1]=='13':\n",
    "        y2013+=1 \n",
    "print(\"Number of Snowy Owl observations in 2013:\")\n",
    "print(y2013)\n",
    "\n",
    "y2014= 0\n",
    "for row in flist:\n",
    "    if row[3][-3:-1]=='14':\n",
    "        y2014+=1 \n",
    "print(\"Number of Snowy Owl observations in 2014:\")\n",
    "print(y2014)\n",
    "\n",
    "y2015= 0\n",
    "for row in flist:\n",
    "    if row[3][-3:-1]=='15':\n",
    "        y2015+=1 \n",
    "print(\"Number of Snowy Owl observations in 2015:\")\n",
    "print(y2015)\n",
    "\n",
    "y2016= 0\n",
    "for row in flist:\n",
    "    if row[3][-3:-1]=='16':\n",
    "        y2016+=1 \n",
    "print(\"Number of Snowy Owl observations in 2016:\")\n",
    "print(y2016)\n",
    "\n",
    "years=[2009, 2010, 2011, 2012, 2013, 2014, 2015, 2016]\n",
    "observations= [y2009, y2010, y2011, y2012, y2013, y2014, y2015, y2016]\n",
    "plt.scatter (years, observations)\n",
    "labels=['2009', '2010', '2011', '2012', '2013', '2014','2015', '2016' ]\n",
    "plt.xticks(years, labels, rotation='vertical')\n",
    "plt.xlabel(\"year\")\n",
    "plt.ylabel(\"# of observations\")\n",
    "plt.title(\"Snowy Owl observations by Year\")"
   ]
  },
  {
   "cell_type": "markdown",
   "metadata": {},
   "source": [
    "The graph represents an upward trend in the Snowy Owl population by year from 2011-2013. It's important to note the large jump from 2011 to 2012 which is a significantly larger increase in # of observations than from 2012-2013. And even more importantly, it's important to notice that there were 0 Snowy Owl observations from 2009-2010, and 2014-2016. Several factors could have caused this irregular trend, perhaps there was extreme changes in weather that were not habitable to the Snowy Owl species. "
   ]
  },
  {
   "cell_type": "code",
   "execution_count": 18,
   "metadata": {
    "collapsed": false
   },
   "outputs": [
    {
     "name": "stdout",
     "output_type": "stream",
     "text": [
      "Number of Black Swift observations in 2009:\n",
      "14\n",
      "Number of Black Swift observations in 2010:\n",
      "39\n",
      "Number of Black Swift observations in 2011:\n",
      "34\n",
      "Number of Black Swift observations in 2012:\n",
      "53\n",
      "Number of Black Swift observations in 2013:\n",
      "34\n",
      "Number of Black Swift observations in 2014:\n",
      "61\n",
      "Number of Black Swift observations in 2015:\n",
      "74\n",
      "Number of Black Swift observations in 2016:\n",
      "104\n"
     ]
    },
    {
     "data": {
      "text/plain": [
       "<matplotlib.text.Text at 0x10d7f5898>"
      ]
     },
     "execution_count": 18,
     "metadata": {},
     "output_type": "execute_result"
    },
    {
     "data": {
      "image/png": "[encoded data removed]",
      "text/plain": [
       "<matplotlib.figure.Figure at 0x10d9b61d0>"
      ]
     },
     "metadata": {},
     "output_type": "display_data"
    }
   ],
   "source": [
    "file= open(\"BlackSwift.csv\", \"r\", errors=\"ignore\")\n",
    "flist=[]\n",
    "for i in file:\n",
    "    flist.append(i)\n",
    "del flist[0]\n",
    "for j in range(len(flist)):\n",
    "    flist[j]=flist[j].split(\",\")\n",
    "\n",
    "y2009= 0\n",
    "for row in flist:\n",
    "    if row[3][-3:-1]=='09':\n",
    "        y2009+=1 \n",
    "print(\"Number of Black Swift observations in 2009:\")\n",
    "print(y2009)\n",
    "\n",
    "y2010= 0\n",
    "for row in flist:\n",
    "    if row[3][-3:-1]=='10':\n",
    "        y2010+=1 \n",
    "print(\"Number of Black Swift observations in 2010:\")\n",
    "print(y2010)\n",
    "\n",
    "y2011= 0\n",
    "for row in flist:\n",
    "    if row[3][-3:-1]=='11':\n",
    "        y2011+=1 \n",
    "print(\"Number of Black Swift observations in 2011:\")\n",
    "print(y2011)\n",
    "\n",
    "y2012= 0\n",
    "for row in flist:\n",
    "    if row[3][-3:-1]=='12':\n",
    "        y2012+=1 \n",
    "print(\"Number of Black Swift observations in 2012:\")\n",
    "print(y2012)\n",
    "\n",
    "y2013= 0\n",
    "for row in flist:\n",
    "    if row[3][-3:-1]=='13':\n",
    "        y2013+=1 \n",
    "print(\"Number of Black Swift observations in 2013:\")\n",
    "print(y2013)\n",
    "\n",
    "y2014= 0\n",
    "for row in flist:\n",
    "    if row[3][-3:-1]=='14':\n",
    "        y2014+=1 \n",
    "print(\"Number of Black Swift observations in 2014:\")\n",
    "print(y2014)\n",
    "\n",
    "y2015= 0\n",
    "for row in flist:\n",
    "    if row[3][-3:-1]=='15':\n",
    "        y2015+=1 \n",
    "print(\"Number of Black Swift observations in 2015:\")\n",
    "print(y2015)\n",
    "\n",
    "y2016= 0\n",
    "for row in flist:\n",
    "    if row[3][-3:-1]=='16':\n",
    "        y2016+=1 \n",
    "print(\"Number of Black Swift observations in 2016:\")\n",
    "print(y2016)\n",
    "\n",
    "years=[2009, 2010, 2011, 2012, 2013, 2014, 2015, 2016]\n",
    "observations= [y2009, y2010, y2011, y2012, y2013, y2014, y2015, y2016]\n",
    "plt.scatter (years, observations)\n",
    "labels=['2009', '2010', '2011', '2012', '2013', '2014','2015', '2016' ]\n",
    "plt.xticks(years, labels, rotation='vertical')\n",
    "plt.xlabel(\"year\")\n",
    "plt.ylabel(\"# of observations\")\n",
    "plt.title(\"Black Swift observations by Year\")"
   ]
  },
  {
   "cell_type": "markdown",
   "metadata": {},
   "source": [
    "Overall as represented by the graph, the Black Swift population in King County has had an upward trend over the last 7 years. Each year the # of observations becomes succesively larger besides in 2011 and 2013 where the observations had a slight drop. The slight drop may have been caused by an overall decrease in the whole Black Swift population. "
   ]
  },
  {
   "cell_type": "code",
   "execution_count": 19,
   "metadata": {
    "collapsed": false
   },
   "outputs": [
    {
     "name": "stdout",
     "output_type": "stream",
     "text": [
      "Number of Anna's Hummingbird observations in 2009:\n",
      "1392\n",
      "Number of Anna's Hummingbird observations in 2010:\n",
      "2032\n",
      "Number of Anna's Hummingbird observations in 2011:\n",
      "2076\n",
      "Number of Anna's Hummingbird observations in 2012:\n",
      "3333\n",
      "Number of Anna's Hummingbird observations in 2013:\n",
      "4178\n",
      "Number of Anna's Hummingbird observations in 2014:\n",
      "4372\n",
      "Number of Anna's Hummingbird observations in 2015:\n",
      "5634\n",
      "Number of Anna's Hummingbird  observations in 2016:\n",
      "5660\n"
     ]
    },
    {
     "data": {
      "text/plain": [
       "<matplotlib.text.Text at 0x1105d1390>"
      ]
     },
     "execution_count": 19,
     "metadata": {},
     "output_type": "execute_result"
    },
    {
     "data": {
      "image/png": "[encoded data removed]",
      "text/plain": [
       "<matplotlib.figure.Figure at 0x10d9b6588>"
      ]
     },
     "metadata": {},
     "output_type": "display_data"
    }
   ],
   "source": [
    "file= open(\"AnnasHummingbird.csv\", \"r\", errors=\"ignore\")\n",
    "flist=[]\n",
    "for i in file:\n",
    "    flist.append(i)\n",
    "del flist[0]\n",
    "for j in range(len(flist)):\n",
    "    flist[j]=flist[j].split(\",\")\n",
    "\n",
    "y2009= 0\n",
    "for row in flist:\n",
    "    if row[3][-3:-1]=='09':\n",
    "        y2009+=1 \n",
    "print(\"Number of Anna's Hummingbird observations in 2009:\")\n",
    "print(y2009)\n",
    "\n",
    "y2010= 0\n",
    "for row in flist:\n",
    "    if row[3][-3:-1]=='10':\n",
    "        y2010+=1 \n",
    "print(\"Number of Anna's Hummingbird observations in 2010:\")\n",
    "print(y2010)\n",
    "\n",
    "y2011= 0\n",
    "for row in flist:\n",
    "    if row[3][-3:-1]=='11':\n",
    "        y2011+=1 \n",
    "print(\"Number of Anna's Hummingbird observations in 2011:\")\n",
    "print(y2011)\n",
    "\n",
    "y2012= 0\n",
    "for row in flist:\n",
    "    if row[3][-3:-1]=='12':\n",
    "        y2012+=1 \n",
    "print(\"Number of Anna's Hummingbird observations in 2012:\")\n",
    "print(y2012)\n",
    "\n",
    "y2013= 0\n",
    "for row in flist:\n",
    "    if row[3][-3:-1]=='13':\n",
    "        y2013+=1 \n",
    "print(\"Number of Anna's Hummingbird observations in 2013:\")\n",
    "print(y2013)\n",
    "\n",
    "y2014= 0\n",
    "for row in flist:\n",
    "    if row[3][-3:-1]=='14':\n",
    "        y2014+=1 \n",
    "print(\"Number of Anna's Hummingbird observations in 2014:\")\n",
    "print(y2014)\n",
    "\n",
    "y2015= 0\n",
    "for row in flist:\n",
    "    if row[3][-3:-1]=='15':\n",
    "        y2015+=1 \n",
    "print(\"Number of Anna's Hummingbird observations in 2015:\")\n",
    "print(y2015)\n",
    "\n",
    "y2016= 0\n",
    "for row in flist:\n",
    "    if row[3][-3:-1]=='16':\n",
    "        y2016+=1 \n",
    "print(\"Number of Anna's Hummingbird  observations in 2016:\")\n",
    "print(y2016)\n",
    "\n",
    "years=[2009, 2010, 2011, 2012, 2013, 2014, 2015, 2016]\n",
    "observations= [y2009, y2010, y2011, y2012, y2013, y2014, y2015, y2016]\n",
    "plt.scatter (years, observations)\n",
    "labels=['2009', '2010', '2011', '2012', '2013', '2014','2015', '2016' ]\n",
    "plt.xticks(years, labels, rotation='vertical')\n",
    "plt.xlabel(\"year\")\n",
    "plt.ylabel(\"# of observations\")\n",
    "plt.title(\"Anna's Hummingbird observations by Year\")\n",
    "\n"
   ]
  },
  {
   "cell_type": "markdown",
   "metadata": {},
   "source": [
    "Over the past 7 years, the Anna's Hummingbird population of King County has had a very positive upward trend. The scatter plot almost represents a perfectly linear regression throughout the last 7 years which indicates that the population of Anna's Hummingbird in King County has increased over the years and may gives reason to hypothesize it will continue to increase in years to come. "
   ]
  },
  {
   "cell_type": "code",
   "execution_count": 20,
   "metadata": {
    "collapsed": false
   },
   "outputs": [
    {
     "name": "stdout",
     "output_type": "stream",
     "text": [
      "Number of Brambling observations in 2009:\n",
      "0\n",
      "Number of Brambling observations in 2010:\n",
      "0\n",
      "Number of Brambling observations in 2011:\n",
      "0\n",
      "Number of Brambling observations in 2012:\n",
      "0\n",
      "Number of Brambling observations in 2013:\n",
      "0\n",
      "Number of Brambling observations in 2014:\n",
      "0\n",
      "Number of Brambling observations in 2015:\n",
      "84\n",
      "Number of Brambling observations in 2016:\n",
      "0\n"
     ]
    },
    {
     "data": {
      "text/plain": [
       "<matplotlib.text.Text at 0x110628b00>"
      ]
     },
     "execution_count": 20,
     "metadata": {},
     "output_type": "execute_result"
    },
    {
     "data": {
      "image/png": "[encoded data removed]",
      "text/plain": [
       "<matplotlib.figure.Figure at 0x10d9b62e8>"
      ]
     },
     "metadata": {},
     "output_type": "display_data"
    }
   ],
   "source": [
    "file= open(\"Brambling.csv\", \"r\", errors=\"ignore\")\n",
    "flist=[]\n",
    "for i in file:\n",
    "    flist.append(i)\n",
    "del flist[0]\n",
    "for j in range(len(flist)):\n",
    "    flist[j]=flist[j].split(\",\")\n",
    "\n",
    "y2009= 0\n",
    "for row in flist:\n",
    "    if row[3][-3:-1]=='09':\n",
    "        y2009+=1 \n",
    "print(\"Number of Brambling observations in 2009:\")\n",
    "print(y2009)\n",
    "\n",
    "y2010= 0\n",
    "for row in flist:\n",
    "    if row[3][-3:-1]=='10':\n",
    "        y2010+=1 \n",
    "print(\"Number of Brambling observations in 2010:\")\n",
    "print(y2010)\n",
    "\n",
    "y2011= 0\n",
    "for row in flist:\n",
    "    if row[3][-3:-1]=='11':\n",
    "        y2011+=1 \n",
    "print(\"Number of Brambling observations in 2011:\")\n",
    "print(y2011)\n",
    "\n",
    "y2012= 0\n",
    "for row in flist:\n",
    "    if row[3][-3:-1]=='12':\n",
    "        y2012+=1 \n",
    "print(\"Number of Brambling observations in 2012:\")\n",
    "print(y2012)\n",
    "\n",
    "y2013= 0\n",
    "for row in flist:\n",
    "    if row[3][-3:-1]=='13':\n",
    "        y2013+=1 \n",
    "print(\"Number of Brambling observations in 2013:\")\n",
    "print(y2013)\n",
    "\n",
    "y2014= 0\n",
    "for row in flist:\n",
    "    if row[3][-3:-1]=='14':\n",
    "        y2014+=1 \n",
    "print(\"Number of Brambling observations in 2014:\")\n",
    "print(y2014)\n",
    "\n",
    "y2015= 0\n",
    "for row in flist:\n",
    "    if row[3][-3:-1]=='15':\n",
    "        y2015+=1 \n",
    "print(\"Number of Brambling observations in 2015:\")\n",
    "print(y2015)\n",
    "\n",
    "y2016= 0\n",
    "for row in flist:\n",
    "    if row[3][-3:-1]=='16':\n",
    "        y2016+=1 \n",
    "print(\"Number of Brambling observations in 2016:\")\n",
    "print(y2016)\n",
    "\n",
    "years=[2009, 2010, 2011, 2012, 2013, 2014, 2015, 2016]\n",
    "observations= [y2009, y2010, y2011, y2012, y2013, y2014, y2015, y2016]\n",
    "plt.scatter (years, observations)\n",
    "labels=['2009', '2010', '2011', '2012', '2013', '2014','2015', '2016' ]\n",
    "plt.xticks(years, labels, rotation='vertical')\n",
    "plt.xlabel(\"year\")\n",
    "plt.ylabel(\"# of observations\")\n",
    "plt.title(\"Brambling observations by Year\")\n",
    "\n"
   ]
  },
  {
   "cell_type": "markdown",
   "metadata": {},
   "source": [
    "Unlike the rest of the species, the Brambling species only occured in 2015. This may indicate that the species is not popular in King County region and that for the year of 2015 the species used King County as a substitute to their preferred location and climate.  "
   ]
  },
  {
   "cell_type": "code",
   "execution_count": 21,
   "metadata": {
    "collapsed": false
   },
   "outputs": [
    {
     "name": "stdout",
     "output_type": "stream",
     "text": [
      "Number of Harlequin Duck observations in 2009:\n",
      "34\n",
      "Number of Harlequin Duck observations in 2010:\n",
      "87\n",
      "Number of Harlequin Duck observations in 2011:\n",
      "89\n",
      "Number of Harlequin Duck observations in 2012:\n",
      "124\n",
      "Number of Harlequin Duck observations in 2013:\n",
      "139\n",
      "Number of Harlequin Duck observations in 2014:\n",
      "170\n",
      "Number of Harlequin Duck observations in 2015:\n",
      "198\n",
      "Number of Harlequin Duck observations in 2016:\n",
      "164\n"
     ]
    },
    {
     "data": {
      "text/plain": [
       "<matplotlib.text.Text at 0x11058d668>"
      ]
     },
     "execution_count": 21,
     "metadata": {},
     "output_type": "execute_result"
    },
    {
     "data": {
      "image/png": "[encoded data removed]",
      "text/plain": [
       "<matplotlib.figure.Figure at 0x10d9b6438>"
      ]
     },
     "metadata": {},
     "output_type": "display_data"
    }
   ],
   "source": [
    "file= open(\"HarlequinDuck.csv\", \"r\", errors=\"ignore\")\n",
    "flist=[]\n",
    "for i in file:\n",
    "    flist.append(i)\n",
    "del flist[0]\n",
    "for j in range(len(flist)):\n",
    "    flist[j]=flist[j].split(\",\")\n",
    "\n",
    "y2009= 0\n",
    "for row in flist:\n",
    "    if row[3][-3:-1]=='09':\n",
    "        y2009+=1 \n",
    "print(\"Number of Harlequin Duck observations in 2009:\")\n",
    "print(y2009)\n",
    "\n",
    "y2010= 0\n",
    "for row in flist:\n",
    "    if row[3][-3:-1]=='10':\n",
    "        y2010+=1 \n",
    "print(\"Number of Harlequin Duck observations in 2010:\")\n",
    "print(y2010)\n",
    "\n",
    "y2011= 0\n",
    "for row in flist:\n",
    "    if row[3][-3:-1]=='11':\n",
    "        y2011+=1 \n",
    "print(\"Number of Harlequin Duck observations in 2011:\")\n",
    "print(y2011)\n",
    "\n",
    "y2012= 0\n",
    "for row in flist:\n",
    "    if row[3][-3:-1]=='12':\n",
    "        y2012+=1 \n",
    "print(\"Number of Harlequin Duck observations in 2012:\")\n",
    "print(y2012)\n",
    "\n",
    "y2013= 0\n",
    "for row in flist:\n",
    "    if row[3][-3:-1]=='13':\n",
    "        y2013+=1 \n",
    "print(\"Number of Harlequin Duck observations in 2013:\")\n",
    "print(y2013)\n",
    "\n",
    "y2014= 0\n",
    "for row in flist:\n",
    "    if row[3][-3:-1]=='14':\n",
    "        y2014+=1 \n",
    "print(\"Number of Harlequin Duck observations in 2014:\")\n",
    "print(y2014)\n",
    "\n",
    "y2015= 0\n",
    "for row in flist:\n",
    "    if row[3][-3:-1]=='15':\n",
    "        y2015+=1 \n",
    "print(\"Number of Harlequin Duck observations in 2015:\")\n",
    "print(y2015)\n",
    "\n",
    "y2016= 0\n",
    "for row in flist:\n",
    "    if row[3][-3:-1]=='16':\n",
    "        y2016+=1 \n",
    "print(\"Number of Harlequin Duck observations in 2016:\")\n",
    "print(y2016)\n",
    "\n",
    "years=[2009, 2010, 2011, 2012, 2013, 2014, 2015, 2016]\n",
    "observations= [y2009, y2010, y2011, y2012, y2013, y2014, y2015, y2016]\n",
    "plt.scatter (years, observations)\n",
    "labels=['2009', '2010', '2011', '2012', '2013', '2014','2015', '2016' ]\n",
    "plt.xticks(years, labels, rotation='vertical')\n",
    "plt.xlabel(\"year\")\n",
    "plt.ylabel(\"# of observations\")\n",
    "plt.title(\"Harlequin Duck observations by Year\")"
   ]
  },
  {
   "cell_type": "markdown",
   "metadata": {},
   "source": [
    "The Harlequin Duck species had an overall upward trend from 2009-2015, however, as represented by the graph, the # of observations decreased in 2016. This may indicate a decline in the # of observations for the years to come or perhaps the 2016 stat is just a small dip in the overall positive upward trend. "
   ]
  },
  {
   "cell_type": "code",
   "execution_count": 22,
   "metadata": {
    "collapsed": false
   },
   "outputs": [
    {
     "name": "stdout",
     "output_type": "stream",
     "text": [
      "Number of Lazuli Bunting observations in 2009:\n",
      "66\n",
      "Number of Lazuli Bunting observations in 2010:\n",
      "19\n",
      "Number of Lazuli Bunting observations in 2011:\n",
      "55\n",
      "Number of Lazuli Bunting observations in 2012:\n",
      "76\n",
      "Number of Lazuli Bunting observations in 2013:\n",
      "110\n",
      "Number of Lazuli Bunting observations in 2014:\n",
      "126\n",
      "Number of Lazuli Bunting observations in 2015:\n",
      "164\n",
      "Number of Lazuli Bunting observations in 2016:\n",
      "156\n"
     ]
    },
    {
     "data": {
      "text/plain": [
       "<matplotlib.text.Text at 0x10d38bf98>"
      ]
     },
     "execution_count": 22,
     "metadata": {},
     "output_type": "execute_result"
    },
    {
     "data": {
      "image/png": "[encoded data removed]",
      "text/plain": [
       "<matplotlib.figure.Figure at 0x10d1abc18>"
      ]
     },
     "metadata": {},
     "output_type": "display_data"
    }
   ],
   "source": [
    "file= open(\"LazuliBunting.csv\", \"r\", errors=\"ignore\")\n",
    "flist=[]\n",
    "for i in file:\n",
    "    flist.append(i)\n",
    "del flist[0]\n",
    "for j in range(len(flist)):\n",
    "    flist[j]=flist[j].split(\",\")\n",
    "\n",
    "y2009= 0\n",
    "for row in flist:\n",
    "    if row[3][-3:-1]=='09':\n",
    "        y2009+=1 \n",
    "print(\"Number of Lazuli Bunting observations in 2009:\")\n",
    "print(y2009)\n",
    "\n",
    "y2010= 0\n",
    "for row in flist:\n",
    "    if row[3][-3:-1]=='10':\n",
    "        y2010+=1 \n",
    "print(\"Number of Lazuli Bunting observations in 2010:\")\n",
    "print(y2010)\n",
    "\n",
    "y2011= 0\n",
    "for row in flist:\n",
    "    if row[3][-3:-1]=='11':\n",
    "        y2011+=1 \n",
    "print(\"Number of Lazuli Bunting observations in 2011:\")\n",
    "print(y2011)\n",
    "\n",
    "y2012= 0\n",
    "for row in flist:\n",
    "    if row[3][-3:-1]=='12':\n",
    "        y2012+=1 \n",
    "print(\"Number of Lazuli Bunting observations in 2012:\")\n",
    "print(y2012)\n",
    "\n",
    "y2013= 0\n",
    "for row in flist:\n",
    "    if row[3][-3:-1]=='13':\n",
    "        y2013+=1 \n",
    "print(\"Number of Lazuli Bunting observations in 2013:\")\n",
    "print(y2013)\n",
    "\n",
    "y2014= 0\n",
    "for row in flist:\n",
    "    if row[3][-3:-1]=='14':\n",
    "        y2014+=1 \n",
    "print(\"Number of Lazuli Bunting observations in 2014:\")\n",
    "print(y2014)\n",
    "\n",
    "y2015= 0\n",
    "for row in flist:\n",
    "    if row[3][-3:-1]=='15':\n",
    "        y2015+=1 \n",
    "print(\"Number of Lazuli Bunting observations in 2015:\")\n",
    "print(y2015)\n",
    "\n",
    "y2016= 0\n",
    "for row in flist:\n",
    "    if row[3][-3:-1]=='16':\n",
    "        y2016+=1 \n",
    "print(\"Number of Lazuli Bunting observations in 2016:\")\n",
    "print(y2016)\n",
    "\n",
    "years=[2009, 2010, 2011, 2012, 2013, 2014, 2015, 2016]\n",
    "observations= [y2009, y2010, y2011, y2012, y2013, y2014, y2015, y2016]\n",
    "plt.scatter (years, observations)\n",
    "labels=['2009', '2010', '2011', '2012', '2013', '2014','2015', '2016' ]\n",
    "plt.xticks(years, labels, rotation='vertical')\n",
    "plt.xlabel(\"year\")\n",
    "plt.ylabel(\"# of observations\")\n",
    "plt.title(\"Lazuli Bunting observations by Year\")"
   ]
  },
  {
   "cell_type": "markdown",
   "metadata": {},
   "source": [
    "As represented by the graph the Lazuli Bunting species had an upward trend for # of observations from 2010-2015. However, the # of observations dropped from 2009-2010 and again from 2015-2016. The recent dip may be an indication of a decline in future # of observations or just an small outlier in future data. "
   ]
  },
  {
   "cell_type": "markdown",
   "metadata": {},
   "source": [
    "In conclusion, most species all shared a couple patterns of occurence. For most species, there is a season in which they do not appear in the King County region. Several factors can contribute to this pattern, one being the difference in climate and what climate is suitable to the species. For most species, the # of observations has had an upward trend at some point between 2009-2016. Again there are many factors that can contribute to this pattern, one may be the pattern of mating, perhaps these species are having an overall worldwide increase in population. And lastly, for a significant amount species, they mostly occured in groups of 10 or less. This pattern is also based on several factors, one may be that the species prefer traveling is small flocks. "
   ]
  },
  {
   "cell_type": "code",
   "execution_count": null,
   "metadata": {
    "collapsed": true
   },
   "outputs": [],
   "source": []
  }
 ],
 "metadata": {
  "kernelspec": {
   "display_name": "Python [Root]",
   "language": "python",
   "name": "Python [Root]"
  },
  "language_info": {
   "codemirror_mode": {
    "name": "ipython",
    "version": 3
   },
   "file_extension": ".py",
   "mimetype": "text/x-python",
   "name": "python",
   "nbconvert_exporter": "python",
   "pygments_lexer": "ipython3",
   "version": "3.5.2"
  }
 },
 "nbformat": 4,
 "nbformat_minor": 0
}
